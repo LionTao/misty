{
 "cells": [
  {
   "cell_type": "code",
   "execution_count": 1,
   "metadata": {},
   "outputs": [
    {
     "data": {
      "image/svg+xml": "<svg xmlns=\"http://www.w3.org/2000/svg\" xmlns:xlink=\"http://www.w3.org/1999/xlink\" width=\"100.0\" height=\"100.0\" viewBox=\"-1.12 -1.12 3.24 3.24\" preserveAspectRatio=\"xMinYMin meet\"><g transform=\"matrix(1,0,0,-1,0,1.0)\"><path fill-rule=\"evenodd\" fill=\"#66cc99\" stroke=\"#555555\" stroke-width=\"0.06480000000000001\" opacity=\"0.6\" d=\"M 0.29289321881345254,1.7071067811865475 L 0.3656067158363546,1.773010453362737 L 0.44442976698039804,1.8314696123025453 L 0.5286032631740023,1.881921264348355 L 0.6173165676349103,1.9238795325112867 L 0.7097153227455378,1.956940335732209 L 0.8049096779838718,1.9807852804032304 L 0.9019828596704393,1.995184726672197 L 1.0,2.0 L 1.0980171403295609,1.9951847266721967 L 1.1950903220161284,1.9807852804032304 L 1.2902846772544623,1.956940335732209 L 1.3826834323650898,1.9238795325112867 L 1.471396736825998,1.881921264348355 L 1.5555702330196022,1.8314696123025453 L 1.6343932841636455,1.7730104533627369 L 1.7071067811865475,1.7071067811865475 L 1.7730104533627369,1.6343932841636453 L 1.8314696123025453,1.5555702330196022 L 1.881921264348355,1.4713967368259977 L 1.9238795325112867,1.3826834323650898 L 1.956940335732209,1.2902846772544623 L 1.9807852804032304,1.1950903220161284 L 1.995184726672197,1.0980171403295607 L 2.0,1.0 L 1.995184726672197,0.9019828596704393 L 1.9807852804032304,0.8049096779838716 L 1.956940335732209,0.7097153227455377 L 1.9238795325112867,0.6173165676349102 L 1.881921264348355,0.5286032631740023 L 1.8314696123025453,0.44442976698039793 L 1.7730104533627369,0.3656067158363546 L 1.7071067811865475,0.29289321881345254 L 0.7071067811865475,-0.7071067811865475 L 0.6343932841636455,-0.773010453362737 L 0.5555702330196023,-0.8314696123025452 L 0.4713967368259978,-0.8819212643483549 L 0.38268343236508984,-0.9238795325112867 L 0.29028467725446233,-0.9569403357322089 L 0.19509032201612833,-0.9807852804032304 L 0.09801714032956077,-0.9951847266721968 L 6.123233995736766e-17,-1.0 L -0.09801714032956065,-0.9951847266721969 L -0.1950903220161282,-0.9807852804032304 L -0.29028467725446216,-0.9569403357322089 L -0.3826834323650897,-0.9238795325112867 L -0.4713967368259977,-0.881921264348355 L -0.555570233019602,-0.8314696123025455 L -0.6343932841636454,-0.7730104533627371 L -0.7071067811865475,-0.7071067811865476 L -0.773010453362737,-0.6343932841636455 L -0.8314696123025453,-0.5555702330196022 L -0.8819212643483549,-0.47139673682599786 L -0.9238795325112867,-0.3826834323650899 L -0.9569403357322088,-0.2902846772544624 L -0.9807852804032304,-0.1950903220161286 L -0.9951847266721968,-0.09801714032956083 L -1.0,-1.2246467991473532e-16 L -0.9951847266721969,0.09801714032956059 L -0.9807852804032304,0.19509032201612836 L -0.9569403357322089,0.2902846772544621 L -0.9238795325112868,0.38268343236508967 L -0.881921264348355,0.47139673682599764 L -0.8314696123025455,0.555570233019602 L -0.7730104533627371,0.6343932841636453 L -0.7071067811865475,0.7071067811865475 L 0.29289321881345254,1.7071067811865475 z\" /></g></svg>",
      "text/plain": [
       "<shapely.geometry.polygon.Polygon at 0x7f78e4ce2020>"
      ]
     },
     "execution_count": 1,
     "metadata": {},
     "output_type": "execute_result"
    }
   ],
   "source": [
    "from shapely.geometry import Point, LineString\n",
    "LineString([(0, 0), (1, 1)]).buffer(1)"
   ]
  },
  {
   "cell_type": "code",
   "execution_count": 8,
   "metadata": {},
   "outputs": [
    {
     "data": {
      "text/html": [
       "<div>\n",
       "<style scoped>\n",
       "    .dataframe tbody tr th:only-of-type {\n",
       "        vertical-align: middle;\n",
       "    }\n",
       "\n",
       "    .dataframe tbody tr th {\n",
       "        vertical-align: top;\n",
       "    }\n",
       "\n",
       "    .dataframe thead th {\n",
       "        text-align: right;\n",
       "    }\n",
       "</style>\n",
       "<table border=\"1\" class=\"dataframe\">\n",
       "  <thead>\n",
       "    <tr style=\"text-align: right;\">\n",
       "      <th></th>\n",
       "      <th>h</th>\n",
       "      <th>geometry</th>\n",
       "    </tr>\n",
       "  </thead>\n",
       "  <tbody>\n",
       "    <tr>\n",
       "      <th>0</th>\n",
       "      <td>1</td>\n",
       "      <td>POLYGON ((2.000 1.000, 2.000 2.000, 1.000 2.00...</td>\n",
       "    </tr>\n",
       "    <tr>\n",
       "      <th>1</th>\n",
       "      <td>2</td>\n",
       "      <td>POLYGON ((200.000 100.000, 200.000 300.000, 0....</td>\n",
       "    </tr>\n",
       "  </tbody>\n",
       "</table>\n",
       "</div>"
      ],
      "text/plain": [
       "   h                                           geometry\n",
       "0  1  POLYGON ((2.000 1.000, 2.000 2.000, 1.000 2.00...\n",
       "1  2  POLYGON ((200.000 100.000, 200.000 300.000, 0...."
      ]
     },
     "execution_count": 8,
     "metadata": {},
     "output_type": "execute_result"
    }
   ],
   "source": [
    "from geopandas import GeoDataFrame\n",
    "from shapely.geometry import box\n",
    "d=GeoDataFrame([{\"h\": \"1\", \"geometry\": box(1,1,2,2)},{\"h\": \"2\", \"geometry\": box(0,100,200,300)}])\n",
    "d"
   ]
  },
  {
   "cell_type": "code",
   "execution_count": 10,
   "metadata": {},
   "outputs": [
    {
     "data": {
      "text/plain": [
       "array([0, 1])"
      ]
     },
     "execution_count": 10,
     "metadata": {},
     "output_type": "execute_result"
    }
   ],
   "source": [
    "d.sindex.query(LineString([(0, 0), (1, 1),(100,100)]).buffer(1))"
   ]
  },
  {
   "cell_type": "code",
   "execution_count": 11,
   "metadata": {},
   "outputs": [
    {
     "data": {
      "text/plain": [
       "(12970025.341848467, 4854502.231468809)"
      ]
     },
     "execution_count": 11,
     "metadata": {},
     "output_type": "execute_result"
    }
   ],
   "source": [
    "from pyproj import Transformer\n",
    "transformer = Transformer.from_crs(4326, 3857,always_xy=True)\n",
    "lng,lat=116.51172,39.92123\n",
    "transformer.transform(lng,lat)\n"
   ]
  },
  {
   "cell_type": "code",
   "execution_count": 23,
   "metadata": {},
   "outputs": [
    {
     "name": "stdout",
     "output_type": "stream",
     "text": [
      "2219\n",
      "1118\n",
      "2599\n"
     ]
    }
   ],
   "source": [
    "import json\n",
    "from shapely import wkt\n",
    "import sys\n",
    "h = LineString([(0, 0), (1, 1)]).buffer(1).wkb_hex\n",
    "b=LineString([(0, 0), (1, 1)]).buffer(1).wkb\n",
    "s = LineString([(0, 0), (1, 1)]).buffer(1).wkt\n",
    "print(sys.getsizeof(h))\n",
    "print(sys.getsizeof(b))\n",
    "print(sys.getsizeof(s))"
   ]
  },
  {
   "cell_type": "code",
   "execution_count": 36,
   "metadata": {},
   "outputs": [
    {
     "name": "stdout",
     "output_type": "stream",
     "text": [
      "0 [1, 4]\n",
      "1 [453, 5]\n",
      "2 [6, 265]\n",
      "3 [234, 298]\n",
      "4 [45, 23]\n",
      "5 [888, 24]\n",
      "a\n",
      "1 2 3 4\n"
     ]
    }
   ],
   "source": [
    "from shapely import wkb\n",
    "wkb.loads(b)\n",
    "# wkt.loads(s)\n",
    "from split import chop\n",
    "\n",
    "for idx,v in enumerate(chop(2,{1,23,4,5,6,45,888,24,265,234,453,5,298})):\n",
    "    print(idx,v)\n",
    "print(Exception(\"a\"))\n",
    "LineString([(0, 0), (1, 1)]).buffer(1).wkt\n",
    "print(*{1,2,3,4})"
   ]
  },
  {
   "cell_type": "code",
   "execution_count": 2,
   "metadata": {},
   "outputs": [
    {
     "name": "stdout",
     "output_type": "stream",
     "text": [
      "\n",
      "MovingPandas 0.9.rc3\n",
      "\n",
      "SYSTEM INFO\n",
      "-----------\n",
      "python     : 3.10.2 | packaged by conda-forge | (main, Mar  8 2022, 15:53:57) [GCC 9.4.0]\n",
      "executable : /home/liontao/miniconda3/envs/beam/bin/python\n",
      "machine    : Linux-5.10.102.1-microsoft-standard-WSL2-x86_64-with-glibc2.31\n",
      "\n",
      "GEOS, GDAL, PROJ INFO\n",
      "---------------------\n",
      "GEOS       : 3.10.2\n",
      "GEOS lib   : /home/liontao/miniconda3/envs/beam/lib/libgeos_c.so\n",
      "GDAL       : 3.4.1\n",
      "GDAL data dir: /home/liontao/miniconda3/envs/beam/share/gdal\n",
      "PROJ       : 8.2.1\n",
      "PROJ data dir: /home/liontao/miniconda3/envs/beam/share/proj\n",
      "\n",
      "PYTHON DEPENDENCIES\n",
      "-------------------\n",
      "geopandas  : 0.10.2\n",
      "pandas     : 1.4.1\n",
      "fiona      : 1.8.21\n",
      "numpy      : 1.22.3\n",
      "shapely    : 1.8.0\n",
      "rtree      : 0.9.7\n",
      "pyproj     : 3.3.0\n",
      "matplotlib : 3.5.1\n",
      "mapclassify: 2.4.3\n",
      "geopy      : 2.2.0\n",
      "holoviews  : 1.14.8\n",
      "hvplot     : 0.7.3\n",
      "geoviews   : 1.9.5\n",
      "stonesoup  : 0.1b8\n"
     ]
    }
   ],
   "source": [
    "import pandas as pd\n",
    "from geopandas import GeoDataFrame, read_file\n",
    "\n",
    "import sys\n",
    "sys.path.append(\"..\")\n",
    "import movingpandas as mpd\n",
    "mpd.show_versions()\n",
    "\n",
    "import warnings\n",
    "warnings.simplefilter(\"ignore\")"
   ]
  },
  {
   "cell_type": "code",
   "execution_count": 49,
   "metadata": {},
   "outputs": [],
   "source": [
    "raw_df = pd.read_csv('data/all.txt', delimiter=',')\n",
    "raw_df.columns = ['trajectory_id','t','X','Y']\n",
    "traj_collection = mpd.TrajectoryCollection(raw_df, 'trajectory_id', t='t', x='X', y='Y')\n",
    "splitted = mpd.TemporalSplitter(traj_collection).split(mode=\"day\",min_length=50)"
   ]
  },
  {
   "cell_type": "code",
   "execution_count": 50,
   "metadata": {},
   "outputs": [
    {
     "data": {
      "text/plain": [
       "195"
      ]
     },
     "execution_count": 50,
     "metadata": {},
     "output_type": "execute_result"
    }
   ],
   "source": [
    "res=[t for t in filter(lambda x:x.size()<200 and x.size()>50 and x.get_length()<200000, splitted)]\n",
    "len(res)"
   ]
  },
  {
   "cell_type": "code",
   "execution_count": 74,
   "metadata": {},
   "outputs": [
    {
     "data": {
      "text/html": [
       "<div>\n",
       "<style scoped>\n",
       "    .dataframe tbody tr th:only-of-type {\n",
       "        vertical-align: middle;\n",
       "    }\n",
       "\n",
       "    .dataframe tbody tr th {\n",
       "        vertical-align: top;\n",
       "    }\n",
       "\n",
       "    .dataframe thead th {\n",
       "        text-align: right;\n",
       "    }\n",
       "</style>\n",
       "<table border=\"1\" class=\"dataframe\">\n",
       "  <thead>\n",
       "    <tr style=\"text-align: right;\">\n",
       "      <th></th>\n",
       "      <th>trajectory_id</th>\n",
       "      <th>geometry</th>\n",
       "      <th>X</th>\n",
       "      <th>Y</th>\n",
       "    </tr>\n",
       "    <tr>\n",
       "      <th>t</th>\n",
       "      <th></th>\n",
       "      <th></th>\n",
       "      <th></th>\n",
       "      <th></th>\n",
       "    </tr>\n",
       "  </thead>\n",
       "  <tbody>\n",
       "    <tr>\n",
       "      <th>2008-02-03 00:00:32</th>\n",
       "      <td>1</td>\n",
       "      <td>POINT (116.69171 39.85184)</td>\n",
       "      <td>116.69171</td>\n",
       "      <td>39.85184</td>\n",
       "    </tr>\n",
       "    <tr>\n",
       "      <th>2008-02-03 00:10:32</th>\n",
       "      <td>1</td>\n",
       "      <td>POINT (116.69170 39.85184)</td>\n",
       "      <td>116.69170</td>\n",
       "      <td>39.85184</td>\n",
       "    </tr>\n",
       "    <tr>\n",
       "      <th>2008-02-03 00:20:32</th>\n",
       "      <td>1</td>\n",
       "      <td>POINT (116.69170 39.85184)</td>\n",
       "      <td>116.69170</td>\n",
       "      <td>39.85184</td>\n",
       "    </tr>\n",
       "    <tr>\n",
       "      <th>2008-02-03 00:30:32</th>\n",
       "      <td>1</td>\n",
       "      <td>POINT (116.69168 39.85146)</td>\n",
       "      <td>116.69168</td>\n",
       "      <td>39.85146</td>\n",
       "    </tr>\n",
       "    <tr>\n",
       "      <th>2008-02-03 00:40:32</th>\n",
       "      <td>1</td>\n",
       "      <td>POINT (116.69172 39.85165)</td>\n",
       "      <td>116.69172</td>\n",
       "      <td>39.85165</td>\n",
       "    </tr>\n",
       "    <tr>\n",
       "      <th>...</th>\n",
       "      <td>...</td>\n",
       "      <td>...</td>\n",
       "      <td>...</td>\n",
       "      <td>...</td>\n",
       "    </tr>\n",
       "    <tr>\n",
       "      <th>2008-02-03 23:15:12</th>\n",
       "      <td>1</td>\n",
       "      <td>POINT (116.69160 39.85181)</td>\n",
       "      <td>116.69160</td>\n",
       "      <td>39.85181</td>\n",
       "    </tr>\n",
       "    <tr>\n",
       "      <th>2008-02-03 23:25:12</th>\n",
       "      <td>1</td>\n",
       "      <td>POINT (116.69163 39.85195)</td>\n",
       "      <td>116.69163</td>\n",
       "      <td>39.85195</td>\n",
       "    </tr>\n",
       "    <tr>\n",
       "      <th>2008-02-03 23:35:13</th>\n",
       "      <td>1</td>\n",
       "      <td>POINT (116.69159 39.85173)</td>\n",
       "      <td>116.69159</td>\n",
       "      <td>39.85173</td>\n",
       "    </tr>\n",
       "    <tr>\n",
       "      <th>2008-02-03 23:45:12</th>\n",
       "      <td>1</td>\n",
       "      <td>POINT (116.69158 39.85175)</td>\n",
       "      <td>116.69158</td>\n",
       "      <td>39.85175</td>\n",
       "    </tr>\n",
       "    <tr>\n",
       "      <th>2008-02-03 23:55:13</th>\n",
       "      <td>1</td>\n",
       "      <td>POINT (116.69160 39.85177)</td>\n",
       "      <td>116.69160</td>\n",
       "      <td>39.85177</td>\n",
       "    </tr>\n",
       "  </tbody>\n",
       "</table>\n",
       "<p>96 rows × 4 columns</p>\n",
       "</div>"
      ],
      "text/plain": [
       "                     trajectory_id                    geometry          X  \\\n",
       "t                                                                           \n",
       "2008-02-03 00:00:32              1  POINT (116.69171 39.85184)  116.69171   \n",
       "2008-02-03 00:10:32              1  POINT (116.69170 39.85184)  116.69170   \n",
       "2008-02-03 00:20:32              1  POINT (116.69170 39.85184)  116.69170   \n",
       "2008-02-03 00:30:32              1  POINT (116.69168 39.85146)  116.69168   \n",
       "2008-02-03 00:40:32              1  POINT (116.69172 39.85165)  116.69172   \n",
       "...                            ...                         ...        ...   \n",
       "2008-02-03 23:15:12              1  POINT (116.69160 39.85181)  116.69160   \n",
       "2008-02-03 23:25:12              1  POINT (116.69163 39.85195)  116.69163   \n",
       "2008-02-03 23:35:13              1  POINT (116.69159 39.85173)  116.69159   \n",
       "2008-02-03 23:45:12              1  POINT (116.69158 39.85175)  116.69158   \n",
       "2008-02-03 23:55:13              1  POINT (116.69160 39.85177)  116.69160   \n",
       "\n",
       "                            Y  \n",
       "t                              \n",
       "2008-02-03 00:00:32  39.85184  \n",
       "2008-02-03 00:10:32  39.85184  \n",
       "2008-02-03 00:20:32  39.85184  \n",
       "2008-02-03 00:30:32  39.85146  \n",
       "2008-02-03 00:40:32  39.85165  \n",
       "...                       ...  \n",
       "2008-02-03 23:15:12  39.85181  \n",
       "2008-02-03 23:25:12  39.85195  \n",
       "2008-02-03 23:35:13  39.85173  \n",
       "2008-02-03 23:45:12  39.85175  \n",
       "2008-02-03 23:55:13  39.85177  \n",
       "\n",
       "[96 rows x 4 columns]"
      ]
     },
     "execution_count": 74,
     "metadata": {},
     "output_type": "execute_result"
    }
   ],
   "source": [
    "df = res[0].to_point_gdf()\n",
    "df"
   ]
  },
  {
   "cell_type": "code",
   "execution_count": null,
   "metadata": {},
   "outputs": [],
   "source": [
    "df=df.reset_index()\n",
    "df['X']=df[\"geometry\"].x\n",
    "df['Y']=df[\"geometry\"].y\n",
    "df.columns\n",
    "df.to_csv(columns=[\"trajectory_id\",\"t\",\"X\",\"Y\"],header=False,index=False)"
   ]
  },
  {
   "cell_type": "code",
   "execution_count": 78,
   "metadata": {},
   "outputs": [
    {
     "name": "stderr",
     "output_type": "stream",
     "text": [
      "100%|██████████| 195/195 [00:00<00:00, 451.33it/s]\n"
     ]
    }
   ],
   "source": [
    "from tqdm.autonotebook import tqdm\n",
    "for i,t in enumerate(tqdm(res)):\n",
    "    df = t.to_point_gdf().reset_index()\n",
    "    df['X']=df[\"geometry\"].x\n",
    "    df['Y']=df[\"geometry\"].y\n",
    "    df[\"trajectory_id\"]=i+1\n",
    "    with open(f\"data/filtered/{i+1}.txt\",'w') as f:\n",
    "        df.to_csv(f,columns=[\"trajectory_id\",\"t\",\"X\",\"Y\"],header=False,index=False)"
   ]
  },
  {
   "cell_type": "code",
   "execution_count": 1,
   "metadata": {},
   "outputs": [
    {
     "data": {
      "text/plain": [
       "17712"
      ]
     },
     "execution_count": 1,
     "metadata": {},
     "output_type": "execute_result"
    }
   ],
   "source": [
    "c=0\n",
    "for i in range(1,151):\n",
    "    with open(f\"data/filtered/{i}.txt\") as f:\n",
    "        c+=len(f.readlines())\n",
    "c"
   ]
  },
  {
   "cell_type": "code",
   "execution_count": 1,
   "metadata": {},
   "outputs": [],
   "source": [
    "import json\n",
    "import pandas as pd\n",
    "bucket = []\n",
    "for i in range(200,1001,100):\n",
    "    with open(f\"/mnt/g/Tencent/results_backup/{i}_0.2_2000.json\") as f:\n",
    "        bucket.append(json.load(f))\n",
    "df=pd.DataFrame(bucket)\n",
    "df = df.rename(columns={\"t1\":\"insertion time\",\"t2\":\"query time\"})\n",
    "df.to_excel(\"/mnt/g/Tencent/results_backup/m-varient.xlsx\",columns=[\"insertion time\",\"query time\",\"tps\",\"latency\"])"
   ]
  },
  {
   "cell_type": "code",
   "execution_count": 8,
   "metadata": {},
   "outputs": [
    {
     "name": "stdout",
     "output_type": "stream",
     "text": [
      "3001\n",
      "3002\n",
      "3003\n",
      "3004\n",
      "3005\n",
      "3006\n",
      "3007\n",
      "3008\n",
      "3009\n",
      "3010\n"
     ]
    }
   ],
   "source": [
    "%%bash\n",
    "for i in {1..10}\n",
    "do\n",
    "((p=3000+$i))\n",
    "echo $p\n",
    "done"
   ]
  }
 ],
 "metadata": {
  "interpreter": {
   "hash": "2e82d3c766b925f61f5cab36299b37482cda46d13e70deaf344f7a8eb2295c51"
  },
  "kernelspec": {
   "display_name": "Python 3.10.2 ('beam')",
   "language": "python",
   "name": "python3"
  },
  "language_info": {
   "codemirror_mode": {
    "name": "ipython",
    "version": 3
   },
   "file_extension": ".py",
   "mimetype": "text/x-python",
   "name": "python",
   "nbconvert_exporter": "python",
   "pygments_lexer": "ipython3",
   "version": "3.10.2"
  },
  "orig_nbformat": 4
 },
 "nbformat": 4,
 "nbformat_minor": 2
}
